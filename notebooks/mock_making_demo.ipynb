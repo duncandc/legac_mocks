{
 "cells": [
  {
   "cell_type": "code",
   "execution_count": 1,
   "metadata": {},
   "outputs": [],
   "source": [
    "from __future__ import print_function, division\n",
    "import numpy as np\n",
    "import matplotlib.pyplot as plt\n",
    "%matplotlib inline\n",
    "%load_ext autoreload\n",
    "%autoreload 2"
   ]
  },
  {
   "cell_type": "markdown",
   "metadata": {},
   "source": [
    "# LEGA-C Mock Demo"
   ]
  },
  {
   "cell_type": "markdown",
   "metadata": {},
   "source": [
    "This notebook demonstrates how to make a mock for the LEGA-C survey. "
   ]
  },
  {
   "cell_type": "markdown",
   "metadata": {},
   "source": [
    "## download and load halo catalog"
   ]
  },
  {
   "cell_type": "markdown",
   "metadata": {},
   "source": [
    "First, you need to make sure you have downloaded the relavent halo catalog.  In this case, we will use the Bolshoi Planck simulation.  This function downloads (if you havent already done so) the z=1 ROCKSTAR halo catalog.  This catalog has been slightly processed for halotools."
   ]
  },
  {
   "cell_type": "code",
   "execution_count": 2,
   "metadata": {},
   "outputs": [
    {
     "name": "stderr",
     "output_type": "stream",
     "text": [
      "/Users/duncan/Code/halotools/halotools/sim_manager/download_manager.py:933: UserWarning: No parser was explicitly specified, so I'm using the best available HTML parser for this system (\"lxml\"). This usually isn't a problem, but if you run this code on another system, or in a different virtual environment, it may use a different parser and behave differently.\n",
      "\n",
      "The code that caused this warning is on line 933 of the file /Users/duncan/Code/halotools/halotools/sim_manager/download_manager.py. To get rid of this warning, pass the additional argument 'features=\"lxml\"' to the BeautifulSoup constructor.\n",
      "\n",
      "  soup = BeautifulSoup(requests.get(baseurl).text)\n",
      "/Users/duncan/Code/halotools/halotools/sim_manager/download_manager.py:942: UserWarning: No parser was explicitly specified, so I'm using the best available HTML parser for this system (\"lxml\"). This usually isn't a problem, but if you run this code on another system, or in a different virtual environment, it may use a different parser and behave differently.\n",
      "\n",
      "The code that caused this warning is on line 942 of the file /Users/duncan/Code/halotools/halotools/sim_manager/download_manager.py. To get rid of this warning, pass the additional argument 'features=\"lxml\"' to the BeautifulSoup constructor.\n",
      "\n",
      "  soup = BeautifulSoup(requests.get(simloc).text)\n",
      "/Users/duncan/Code/halotools/halotools/sim_manager/download_manager.py:950: UserWarning: No parser was explicitly specified, so I'm using the best available HTML parser for this system (\"lxml\"). This usually isn't a problem, but if you run this code on another system, or in a different virtual environment, it may use a different parser and behave differently.\n",
      "\n",
      "The code that caused this warning is on line 950 of the file /Users/duncan/Code/halotools/halotools/sim_manager/download_manager.py. To get rid of this warning, pass the additional argument 'features=\"lxml\"' to the BeautifulSoup constructor.\n",
      "\n",
      "  soup = BeautifulSoup(requests.get(halocatdir).text)\n"
     ]
    }
   ],
   "source": [
    "# downlaod halo catalog if you don't have it\n",
    "from halotools.sim_manager import DownloadManager\n",
    "dman = DownloadManager()\n",
    "\n",
    "from halotools.custom_exceptions import HalotoolsError\n",
    "try:\n",
    "    dman.download_processed_halo_table('bolplanck', 'rockstar', 1.0) \n",
    "except HalotoolsError:\n",
    "    pass  # you already have this downloaded."
   ]
  },
  {
   "cell_type": "markdown",
   "metadata": {},
   "source": [
    "Now you need to load the halo catalog into memory."
   ]
  },
  {
   "cell_type": "code",
   "execution_count": 3,
   "metadata": {},
   "outputs": [],
   "source": [
    "# load halo catalog\n",
    "from halotools import sim_manager\n",
    "simname = 'bolplanck'\n",
    "halocat = sim_manager.CachedHaloCatalog(simname = simname, redshift=1.0, dz_tol = 0.01,\n",
    "                                        version_name='halotools_v0p4', halo_finder='rockstar')"
   ]
  },
  {
   "cell_type": "code",
   "execution_count": 4,
   "metadata": {},
   "outputs": [
    {
     "name": "stdout",
     "output_type": "stream",
     "text": [
      "halo_vmax_firstacc\n",
      "halo_dmvir_dt_tdyn\n",
      "halo_macc\n",
      "halo_scale_factor\n",
      "halo_vmax_mpeak\n",
      "halo_m_pe_behroozi\n",
      "halo_delta_vmax_behroozi17\n",
      "halo_xoff\n",
      "halo_spin\n",
      "halo_tidal_force\n",
      "halo_scale_factor_firstacc\n",
      "halo_c_to_a\n",
      "halo_mvir_firstacc\n",
      "halo_scale_factor_last_mm\n",
      "halo_tidal_id\n",
      "halo_scale_factor_mpeak\n",
      "halo_pid\n",
      "halo_m500c\n",
      "halo_id\n",
      "halo_halfmass_scale_factor\n",
      "halo_upid\n",
      "halo_t_by_u\n",
      "halo_rvir\n",
      "halo_vpeak\n",
      "halo_dmvir_dt_100myr\n",
      "halo_mpeak\n",
      "halo_m_pe_diemer\n",
      "halo_jx\n",
      "halo_jy\n",
      "halo_jz\n",
      "halo_m2500c\n",
      "halo_mvir\n",
      "halo_voff\n",
      "halo_axisA_z\n",
      "halo_axisA_x\n",
      "halo_axisA_y\n",
      "halo_y\n",
      "halo_b_to_a\n",
      "halo_x\n",
      "halo_z\n",
      "halo_m200b\n",
      "halo_vacc\n",
      "halo_scale_factor_lastacc\n",
      "halo_vmax\n",
      "halo_m200c\n",
      "halo_vx\n",
      "halo_vy\n",
      "halo_vz\n",
      "halo_dmvir_dt_inst\n",
      "halo_tidal_force_tdyn\n",
      "halo_rs\n",
      "halo_nfw_conc\n",
      "halo_hostid\n",
      "halo_mvir_host_halo\n",
      "\n",
      "number of haloes in catalog: 1470957\n",
      "length of simulation box side: 250.0 Mpc/h\n"
     ]
    }
   ],
   "source": [
    "# print out the column names of catalog\n",
    "for key in halocat.halo_table.keys():\n",
    "    print(key)\n",
    "\n",
    "print(\"\")\n",
    "print(\"number of (sub-)haloes in catalog: {0}\".format(len(halocat.halo_table)))\n",
    "print(\"length of simulation box side: {0} Mpc/h\".format(halocat.Lbox[0]))"
   ]
  },
  {
   "cell_type": "markdown",
   "metadata": {},
   "source": [
    "## define galaxy-halo connection"
   ]
  },
  {
   "cell_type": "markdown",
   "metadata": {},
   "source": [
    "Now we need to define the model we will use to associate galaxies and (sub-)haloes.  This could be one of the pre-defined models included within Halotools, but we will use a custom model.  "
   ]
  },
  {
   "cell_type": "code",
   "execution_count": 7,
   "metadata": {},
   "outputs": [],
   "source": [
    "# SMHM model\n",
    "from halotools.empirical_models import PrebuiltSubhaloModelFactory\n",
    "model = PrebuiltSubhaloModelFactory('behroozi10', redshift = 1.0)"
   ]
  },
  {
   "cell_type": "code",
   "execution_count": 23,
   "metadata": {},
   "outputs": [],
   "source": [
    "# SHAM model\n",
    "from legac_mocks.sham_model import DeconvolveSHAM\n",
    "from legac_mocks.galaxy_abundance_functions import Tomczak_2014_phi, Davidzon_2017_phi\n",
    "from halotools.empirical_models import SubhaloModelFactory\n",
    "\n",
    "# define galaxy stellar mass function for mock\n",
    "phi = Davidzon_2017_phi(redshift=1.0, type='all')\n",
    "\n",
    "\n",
    "sm_model =  DeconvolveSHAM(stellar_mass_function = phi, scatter=0.15, redshift=1.0,\n",
    "                           prim_galprop='stellar_mass', prim_haloprop='halo_vpeak', Lbox=halocat.Lbox)\n",
    "model_1a = SubhaloModelFactory(stellar_mass = sm_model)"
   ]
  },
  {
   "cell_type": "code",
   "execution_count": 24,
   "metadata": {},
   "outputs": [
    {
     "name": "stdout",
     "output_type": "stream",
     "text": [
      "Error automatically detecting Lbox.\n"
     ]
    }
   ],
   "source": [
    "# populate mock\n",
    "model_1a.populate_mock(halocat)  "
   ]
  },
  {
   "cell_type": "code",
   "execution_count": 25,
   "metadata": {},
   "outputs": [
    {
     "name": "stdout",
     "output_type": "stream",
     "text": [
      "halo_upid\n",
      "halo_hostid\n",
      "halo_x\n",
      "halo_y\n",
      "halo_id\n",
      "halo_z\n",
      "halo_vx\n",
      "halo_vy\n",
      "halo_vz\n",
      "halo_rvir\n",
      "halo_vpeak\n",
      "halo_mvir\n",
      "halo_mvir_host_halo\n",
      "x\n",
      "y\n",
      "z\n",
      "vx\n",
      "vy\n",
      "vz\n",
      "galid\n",
      "stellar_mass\n"
     ]
    }
   ],
   "source": [
    "mock = model_1a.mock.galaxy_table\n",
    "for key in mock.keys():\n",
    "    print(key)"
   ]
  },
  {
   "cell_type": "markdown",
   "metadata": {},
   "source": [
    "## stellar mass function"
   ]
  },
  {
   "cell_type": "code",
   "execution_count": 26,
   "metadata": {},
   "outputs": [
    {
     "data": {
      "image/png": "[encoded data removed]",
      "text/plain": [
       "<Figure size 475.2x475.2 with 1 Axes>"
      ]
     },
     "metadata": {
      "needs_background": "light"
     },
     "output_type": "display_data"
    }
   ],
   "source": [
    "# stellar mass function\n",
    "from legac_mocks.galaxy_abundance_functions import Tomczak_2014_phi, Davidzon_2017_phi\n",
    "\n",
    "# stellar mass function\n",
    "msample = np.logspace(7,12,1000)\n",
    "phi_1 = Tomczak_2014_phi()\n",
    "phi_2 = Davidzon_2017_phi(redshift=1.0)\n",
    "\n",
    "bins = np.arange(8,12,0.1)\n",
    "bins = 10.0**bins\n",
    "bin_centers = (bins[:-1]+bins[1:])/2.0\n",
    "\n",
    "counts = np.histogram(mock['stellar_mass'], bins=bins)[0]\n",
    "counts = counts/np.prod(halocat.Lbox)/0.1\n",
    "\n",
    "\n",
    "fig = plt.figure(figsize=(6.6,6.6))\n",
    "fig.subplots_adjust(left=0.2, right=0.9, bottom=0.2, top=0.9)\n",
    "p1, = plt.plot(bin_centers, counts, 'o')\n",
    "l1, = plt.plot(msample, phi_1(msample), '--')\n",
    "l2, = plt.plot(msample, phi_2(msample), ':')\n",
    "plt.yscale('log')\n",
    "plt.xscale('log')\n",
    "plt.ylim([10**-5,0.1])\n",
    "plt.xlim([10**7.5,10**12])\n",
    "plt.legend([p1,l1, l2],['mock','Tomczak + 2014', 'Davidzon + 2017'], loc='lower left', frameon=False, fontsize=10)\n",
    "plt.xlabel(r'$M_{*}~h^{-2}M_{\\odot}$')\n",
    "plt.ylabel(r'$\\phi(M_*)~[h^{3}{\\rm Mpc}^{-3}{\\rm dex}^{-1}]$')\n",
    "plt.show()\n"
   ]
  },
  {
   "cell_type": "code",
   "execution_count": 33,
   "metadata": {},
   "outputs": [
    {
     "data": {
      "image/png": "[encoded data removed]",
      "text/plain": [
       "<Figure size 475.2x475.2 with 1 Axes>"
      ]
     },
     "metadata": {
      "needs_background": "light"
     },
     "output_type": "display_data"
    }
   ],
   "source": [
    "m_sample = np.logspace(10,15,100)\n",
    "\n",
    "centrals = (mock['halo_upid']==-1)\n",
    "\n",
    "fig = plt.figure(figsize=(6.6,6.6))\n",
    "fig.subplots_adjust(left=0.2, right=0.9, bottom=0.2, top=0.9)\n",
    "plt.scatter(mock['halo_mvir'][centrals], mock['stellar_mass'][centrals],s=1, color='black')\n",
    "plt.plot(m_sample, model.mean_stellar_mass(prim_haloprop=m_sample), color='red')\n",
    "down_scatter = 10**(np.log10(model.mean_stellar_mass(prim_haloprop=m_sample)) - 0.15)\n",
    "up_scatter = 10**(np.log10(model.mean_stellar_mass(prim_haloprop=m_sample)) + 0.15)\n",
    "plt.plot(m_sample, down_scatter, '--', color='red')\n",
    "plt.plot(m_sample, up_scatter, '--', color='red')\n",
    "plt.yscale('log')\n",
    "plt.xscale('log')\n",
    "plt.ylabel(r'$M_{*}~h^{-2}M_{\\odot}$')\n",
    "plt.xlabel(r'$M_{\\rm halo}~h^{-1}M_{\\odot}$')\n",
    "plt.show()"
   ]
  },
  {
   "cell_type": "markdown",
   "metadata": {},
   "source": [
    "## galaxy clustering"
   ]
  },
  {
   "cell_type": "code",
   "execution_count": 43,
   "metadata": {},
   "outputs": [],
   "source": [
    "from halotools.mock_observables import tpcf, wp"
   ]
  },
  {
   "cell_type": "code",
   "execution_count": 45,
   "metadata": {},
   "outputs": [],
   "source": [
    "coords = np.vstack((mock['halo_x'], mock['halo_y'], mock['halo_z'])).T\n",
    "\n",
    "rp_bins = np.logspace(-1,1,20)\n",
    "rpbin_centers = (rbins[:-1]+rbins[1:])/2.0\n",
    "\n",
    "mask = mock['stellar_mass']>10**9.5\n",
    "xi_1 = wp(coords[mask], rp_bins, pi_max=40, period=halocat.Lbox)\n",
    "\n",
    "mask = mock['stellar_mass']>10**10\n",
    "xi_2 = wp(coords[mask], rp_bins, pi_max=40, period=halocat.Lbox)\n",
    "\n",
    "mask = mock['stellar_mass']>10**10.5\n",
    "xi_3 = wp(coords[mask], rp_bins, pi_max=40, period=halocat.Lbox)"
   ]
  },
  {
   "cell_type": "code",
   "execution_count": 53,
   "metadata": {},
   "outputs": [
    {
     "data": {
      "image/png": "[encoded data removed]",
      "text/plain": [
       "<Figure size 432x288 with 1 Axes>"
      ]
     },
     "metadata": {
      "needs_background": "light"
     },
     "output_type": "display_data"
    }
   ],
   "source": [
    "plt.figure()\n",
    "p1, = plt.plot(rbin_centers, xi_1, 'o')\n",
    "p2, = plt.plot(rbin_centers, xi_2, 'o')\n",
    "p3, = plt.plot(rbin_centers, xi_3, 'o')\n",
    "plt.yscale('log')\n",
    "plt.xscale('log')\n",
    "plt.ylabel(r'$w_p(r_p)~h^{-1}{\\rm Mpc}$')\n",
    "plt.xlabel(r'$r_p~h^{-1}{\\rm Mpc}$')\n",
    "plt.legend([p1, p2, p3], [r'$>9.5$',r'$>10.0$',r'$>10.5$'], title=r'$M_*$',\n",
    "           loc='upper right', frameon=False, fontsize=10)\n",
    "plt.show()"
   ]
  },
  {
   "cell_type": "code",
   "execution_count": null,
   "metadata": {},
   "outputs": [],
   "source": []
  }
 ],
 "metadata": {
  "kernelspec": {
   "display_name": "Python 2",
   "language": "python",
   "name": "python2"
  },
  "language_info": {
   "codemirror_mode": {
    "name": "ipython",
    "version": 2
   },
   "file_extension": ".py",
   "mimetype": "text/x-python",
   "name": "python",
   "nbconvert_exporter": "python",
   "pygments_lexer": "ipython2",
   "version": "2.7.15"
  }
 },
 "nbformat": 4,
 "nbformat_minor": 2
}
